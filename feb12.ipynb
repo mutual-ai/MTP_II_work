{
 "cells": [
  {
   "cell_type": "markdown",
   "metadata": {},
   "source": [
    "Paper  01 : [**Mammography Dual View Mass Correspondence**.](https://arxiv.org/abs/1807.00637)"
   ]
  },
  {
   "cell_type": "markdown",
   "metadata": {},
   "source": [
    "### Main Idea :\n",
    "Instead of processing CC, MLO views seperately, a comparision of both views supports the challenging task of tumor detection and localization.\n",
    "### Why this paper? :\n",
    "> Experimental results show improved detection accuracy.\n",
    "### Approach :\n",
    "Patch based Siamese network for lesion matching.\n",
    "\n",
    "Steps:\n",
    "1. Generate patch pair representation. (U-Net to generate these)\n",
    "1. Comparing the two views. (Siamese network)\n",
    "1. Transfer Learning.\n",
    "1. Datasets: MNIST (for testing Siamese network), INbreast, CBIS-DDSM."
   ]
  },
  {
   "cell_type": "markdown",
   "metadata": {},
   "source": [
    "### Merits :\n",
    "1. \n",
    ">Most multi-view deep learning approaches to MG are applied\n",
    "on unregistered full images and concatenate the features obtained\n",
    "by the network on each view separately. In contrast, we propose a\n",
    "Siamese approach that focuses on matching localized patch pairs\n",
    "of masses from dual views.\n",
    "1. \n",
    ">Sharing parameters leads to fewer parameters allowing\n",
    "training with smaller datasets. \n",
    "1.\n",
    ">"
   ]
  },
  {
   "cell_type": "markdown",
   "metadata": {},
   "source": [
    "#### Matching Architecture\n",
    "MatchNet : A deep learning approach for patch-based local image matching, which jointly learns feature representation and matching function from data.\n",
    "https://github.com/hanxf/matchnet\n",
    "\n",
    "#### Detection Algorithm\n",
    "A modified U-Net. Since the boundary of tumors and healthy tissue is ill-defned segmentation is not required at the pixel level. Thus, we modifed the U-net output, so that each pixel of the output, corresponds to a 16x16 pixels area of the input."
   ]
  },
  {
   "cell_type": "markdown",
   "metadata": {},
   "source": [
    "#### System Flow :\n",
    "1. CC/MLO **-->** **Detection Algorithm (U-Net)** **-->** Set of CC/MLO Patches **-->** **Matching Architecture** **-->** **Label** (based on Dice coefficient $\\delta > 0.1$)"
   ]
  },
  {
   "cell_type": "markdown",
   "metadata": {},
   "source": [
    "#### Ensemble :\n",
    "Because medical datasets are generally unbalanced. So we train two networks with balanced number of +ve pairs and randomly selected -ve pairs."
   ]
  },
  {
   "cell_type": "markdown",
   "metadata": {},
   "source": [
    "#### Network Architecture Details :\n",
    "parameter | Value\n",
    "---------------|-------\n",
    "learning rate | 0.0001\n",
    "optimizer | Adam optimizer\n",
    "batch size | 512\n",
    "regularization | NO\n",
    "Training time | 4 Hours. (DDSM dataset, Titan X Pascal GPU)\n",
    "Testing | 6 sec."
   ]
  },
  {
   "cell_type": "markdown",
   "metadata": {},
   "source": [
    "#### Related Papers Currently going through are : \n",
    "1. [U-Net: Convolutional Networks for Biomedical Image Segmentation](https://arxiv.org/abs/1505.04597)\n",
    "1. [MatchNet: Unifying Feature and Metric Learning for Patch-Based Matching](http://www.cs.unc.edu/~xufeng/cs/papers/cvpr15-matchnet.pdf)\n",
    "1. [Siamese Neural Networks for One-shot Image Recognition](https://www.cs.cmu.edu/~rsalakhu/papers/oneshot1.pdf)"
   ]
  },
  {
   "cell_type": "code",
   "execution_count": null,
   "metadata": {},
   "outputs": [],
   "source": []
  }
 ],
 "metadata": {
  "kernelspec": {
   "display_name": "Python 3",
   "language": "python",
   "name": "python3"
  },
  "language_info": {
   "codemirror_mode": {
    "name": "ipython",
    "version": 3
   },
   "file_extension": ".py",
   "mimetype": "text/x-python",
   "name": "python",
   "nbconvert_exporter": "python",
   "pygments_lexer": "ipython3",
   "version": "3.6.6"
  }
 },
 "nbformat": 4,
 "nbformat_minor": 2
}
